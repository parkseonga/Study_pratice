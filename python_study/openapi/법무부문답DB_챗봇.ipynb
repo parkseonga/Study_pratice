{
 "cells": [
  {
   "cell_type": "markdown",
   "metadata": {},
   "source": [
    "# 버비 문답 가져오기 "
   ]
  },
  {
   "cell_type": "markdown",
   "metadata": {},
   "source": [
    "* 패키지 및 모듈설치"
   ]
  },
  {
   "cell_type": "code",
   "execution_count": 1,
   "metadata": {},
   "outputs": [],
   "source": [
    "from lxml import etree\n",
    "import xml.etree.ElementTree as ElementTree\n",
    "import pandas as pd"
   ]
  },
  {
   "cell_type": "code",
   "execution_count": 2,
   "metadata": {},
   "outputs": [],
   "source": [
    "from urllib.request import urlopen\n",
    "from urllib.parse import urlencode,unquote,quote_plus\n",
    "import urllib"
   ]
  },
  {
   "cell_type": "markdown",
   "metadata": {},
   "source": [
    " "
   ]
  },
  {
   "cell_type": "markdown",
   "metadata": {},
   "source": [
    "* api를 통해 데이터 가져오기 "
   ]
  },
  {
   "cell_type": "code",
   "execution_count": 4,
   "metadata": {},
   "outputs": [],
   "source": [
    "# 빈 벡터 생서\n",
    "a = []\n",
    "b = []\n",
    "c = []\n",
    "d = []\n",
    "e = []\n",
    "f = []\n",
    "\n",
    "for i in range(1,2100):\n",
    "    \n",
    "    # api주소 열기 (url + 인증키 + 해당페이지+한 화면에 출력되는 데이터 개수)\n",
    "    request = urllib.request.Request('http://apis.data.go.kr/1270000/lawedu/lawqna?serviceKey=QgPOo6zCRMpwFdtdiSrZ5mkZXCFH4N24opuVNsfkiKafNis38QkEShEB7C%2Fu09m1ukguAbfTHJL%2BeV62phyhzg%3D%3D&pageNo='\n",
    "                                     +str(i)+'&numOfRows=10')\n",
    "    \n",
    "    request.get_method = lambda: 'GET'\n",
    "    response_body = urlopen(request).read().decode('utf-8')\n",
    "    \n",
    "    # 추출된 xml형식의 text를 xml객체로 파싱\n",
    "    tree = etree.fromstring(response_body)\n",
    "    \n",
    "    # 태그로부터 원하는 텍스트 추출\n",
    "    for media in tree.getiterator('item'):\n",
    "        a.append(media.findtext('mainCategory'))\n",
    "        b.append(media.findtext('middleCategory'))\n",
    "        c.append(media.findtext('smallCategory'))\n",
    "        d.append(media.findtext('articleNo')) \n",
    "        e.append(media.findtext('question'))\n",
    "        f.append(media.findtext('answer'))    "
   ]
  },
  {
   "cell_type": "markdown",
   "metadata": {},
   "source": [
    " "
   ]
  },
  {
   "cell_type": "markdown",
   "metadata": {},
   "source": [
    " "
   ]
  },
  {
   "cell_type": "markdown",
   "metadata": {},
   "source": [
    "* 데이터프레임 형식으로 변환 후 합치기"
   ]
  },
  {
   "cell_type": "code",
   "execution_count": 5,
   "metadata": {},
   "outputs": [],
   "source": [
    "df1 = pd.DataFrame(a,columns=['대분류카테고리'])\n",
    "df2 = pd.DataFrame(b,columns=['중분류카테고리'])\n",
    "df3 = pd.DataFrame(c,columns=['소분류카테고리'])\n",
    "df4 = pd.DataFrame(d,columns=['글번호'])\n",
    "df5 = pd.DataFrame(e,columns=['질문'])\n",
    "df6 = pd.DataFrame(f,columns=['답변'])"
   ]
  },
  {
   "cell_type": "code",
   "execution_count": 6,
   "metadata": {},
   "outputs": [],
   "source": [
    "df = pd.concat([df1,df2,df3,df4,df5,df6],axis=1)"
   ]
  },
  {
   "cell_type": "markdown",
   "metadata": {},
   "source": [
    " "
   ]
  },
  {
   "cell_type": "markdown",
   "metadata": {},
   "source": [
    "* 엑셀로 저장 "
   ]
  },
  {
   "cell_type": "code",
   "execution_count": 157,
   "metadata": {},
   "outputs": [],
   "source": [
    "df.to_excel(r'C:\\Users\\Bigdata_Team_1\\Desktop\\SE\\건축물대장\\버비(문답).xlsx')"
   ]
  },
  {
   "cell_type": "code",
   "execution_count": 150,
   "metadata": {},
   "outputs": [
    {
     "name": "stdout",
     "output_type": "stream",
     "text": [
      "<response>\n",
      "<header>\n",
      "<resultCode>200</resultCode>\n",
      "<resultCount>10</resultCount>\n",
      "</header>\n",
      "<body>\n",
      "<totalCount>20982</totalCount>\n",
      "<pageNo>2098</pageNo>\n",
      "<items>\n",
      "<item>\n",
      "<middleCategory><![CDATA[임대차일반]]></middleCategory>\n",
      "<articleNo><![CDATA[100018002]]></articleNo>\n",
      "<answer><![CDATA[경매에 의하여 동산 또는 부동산의 소유권을 취득한 자.]]></answer>\n",
      "<mainCategory><![CDATA[부동산임대차]]></mainCategory>\n",
      "<question><![CDATA[경락인의 정의]]></question>\n",
      "<smallCategory><![CDATA[임대차]]></smallCategory>\n",
      "</item>\n",
      "<item>\n",
      "<middleCategory><![CDATA[임대차일반]]></middleCategory>\n",
      "<articleNo><![CDATA[100015016]]></articleNo>\n",
      "<answer><![CDATA[등기부에 등록된 부동산에 관한 소재지, 번호, 구조, 면적 등을 기록하는 문서로 건물을 소유하고 있는 명의자를 확인하는 기초자료를 의미.(=건축물관리대장)]]></answer>\n",
      "<mainCategory><![CDATA[부동산임대차]]></mainCategory>\n",
      "<question><![CDATA[건축물대장이 뭔가요?]]></question>\n",
      "<smallCategory><![CDATA[임대차]]></smallCategory>\n",
      "</item>\n",
      "<item>\n",
      "<middleCategory><![CDATA[임대차일반]]></middleCategory>\n",
      "<articleNo><![CDATA[100015012]]></articleNo>\n",
      "<answer><![CDATA[등기부에 등록된 부동산에 관한 소재지, 번호, 구조, 면적 등을 기록하는 문서로 건물을 소유하고 있는 명의자를 확인하는 기초자료를 의미.(=건축물관리대장)]]></answer>\n",
      "<mainCategory><![CDATA[부동산임대차]]></mainCategory>\n",
      "<question><![CDATA[건축물관리대장]]></question>\n",
      "<smallCategory><![CDATA[임대차]]></smallCategory>\n",
      "</item>\n",
      "<item>\n",
      "<middleCategory><![CDATA[임대차일반]]></middleCategory>\n",
      "<articleNo><![CDATA[100015001]]></articleNo>\n",
      "<answer><![CDATA[등기부에 등록된 부동산에 관한 소재지, 번호, 구조, 면적 등을 기록하는 문서로 건물을 소유하고 있는 명의자를 확인하는 기초자료를 의미.(=건축물관리대장)]]></answer>\n",
      "<mainCategory><![CDATA[부동산임대차]]></mainCategory>\n",
      "<question><![CDATA[건축물대장의 정의]]></question>\n",
      "<smallCategory><![CDATA[임대차]]></smallCategory>\n",
      "</item>\n",
      "<item>\n",
      "<middleCategory><![CDATA[임대차일반]]></middleCategory>\n",
      "<articleNo><![CDATA[100013003]]></articleNo>\n",
      "<answer><![CDATA[법원에서 채무자의 부동산을 압류·매각하여 채권자의 금전채권을 갚도록 하는 절차.]]></answer>\n",
      "<mainCategory><![CDATA[부동산임대차]]></mainCategory>\n",
      "<question><![CDATA[강제경매절차가 뭔가요?]]></question>\n",
      "<smallCategory><![CDATA[임대차]]></smallCategory>\n",
      "</item>\n",
      "<item>\n",
      "<middleCategory><![CDATA[임대차일반]]></middleCategory>\n",
      "<articleNo><![CDATA[100013001]]></articleNo>\n",
      "<answer><![CDATA[법원에서 채무자의 부동산을 압류·매각하여 채권자의 금전채권을 갚도록 하는 절차.]]></answer>\n",
      "<mainCategory><![CDATA[부동산임대차]]></mainCategory>\n",
      "<question><![CDATA[강제경매절차의 정의]]></question>\n",
      "<smallCategory><![CDATA[임대차]]></smallCategory>\n",
      "</item>\n",
      "<item>\n",
      "<middleCategory><![CDATA[임대차일반]]></middleCategory>\n",
      "<articleNo><![CDATA[100007001]]></articleNo>\n",
      "<answer><![CDATA[가압류하여 해당 부동산의 권리관계가 변경된 것을 표시한 등기.]]></answer>\n",
      "<mainCategory><![CDATA[부동산임대차]]></mainCategory>\n",
      "<question><![CDATA[가압류등기의 정의]]></question>\n",
      "<smallCategory><![CDATA[임대차]]></smallCategory>\n",
      "</item>\n",
      "<item>\n",
      "<middleCategory><![CDATA[임대차일반]]></middleCategory>\n",
      "<articleNo><![CDATA[100003007]]></articleNo>\n",
      "<answer><![CDATA[매매예약이나 자금을 빌려주고 본등기를 하기전에 가등기를 설정한 권리자.(=가등기권자)]]></answer>\n",
      "<mainCategory><![CDATA[부동산임대차]]></mainCategory>\n",
      "<question><![CDATA[가등기권리자가 뭔가요?]]></question>\n",
      "<smallCategory><![CDATA[임대차]]></smallCategory>\n",
      "</item>\n",
      "<item>\n",
      "<middleCategory><![CDATA[임대차일반]]></middleCategory>\n",
      "<articleNo><![CDATA[100003002]]></articleNo>\n",
      "<answer><![CDATA[매매예약이나 자금을 빌려주고 본등기를 하기전에 가등기를 설정한 권리자.(=가등기권자)]]></answer>\n",
      "<mainCategory><![CDATA[부동산임대차]]></mainCategory>\n",
      "<question><![CDATA[가등기권리자란 무엇인가요?]]></question>\n",
      "<smallCategory><![CDATA[임대차]]></smallCategory>\n",
      "</item>\n",
      "<item>\n",
      "<middleCategory><![CDATA[임대차일반]]></middleCategory>\n",
      "<articleNo><![CDATA[100001009]]></articleNo>\n",
      "<answer><![CDATA[한 사람이 물건을 빌려주고 사용료를 받고, 한 사람은 그 물건을 용도에 따라 사용하는 계약입니다(민법 제618조 참조).]]></answer>\n",
      "<mainCategory><![CDATA[부동산임대차]]></mainCategory>\n",
      "<question><![CDATA[임대차가 뭔가요?]]></question>\n",
      "<smallCategory><![CDATA[임대차]]></smallCategory>\n",
      "</item>\n",
      "</items>\n",
      "</body>\n",
      "</response>\n",
      "\n"
     ]
    }
   ],
   "source": [
    "print(response_body)"
   ]
  },
  {
   "cell_type": "code",
   "execution_count": null,
   "metadata": {},
   "outputs": [],
   "source": []
  }
 ],
 "metadata": {
  "kernelspec": {
   "display_name": "Python 3",
   "language": "python",
   "name": "python3"
  },
  "language_info": {
   "codemirror_mode": {
    "name": "ipython",
    "version": 3
   },
   "file_extension": ".py",
   "mimetype": "text/x-python",
   "name": "python",
   "nbconvert_exporter": "python",
   "pygments_lexer": "ipython3",
   "version": "3.7.4"
  }
 },
 "nbformat": 4,
 "nbformat_minor": 2
}
