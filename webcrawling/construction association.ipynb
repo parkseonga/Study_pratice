{
 "cells": [
  {
   "cell_type": "code",
   "execution_count": 10,
   "metadata": {},
   "outputs": [],
   "source": [
    "from urllib.request import urlopen\n",
    "from bs4 import BeautifulSoup\n",
    "import requests\n",
    "import pandas as pd"
   ]
  },
  {
   "cell_type": "code",
   "execution_count": 18,
   "metadata": {},
   "outputs": [],
   "source": [
    "link_=[]\n",
    "\n",
    "for i in range(1,18):\n",
    "    url ='http://www.kcema.or.kr/bbs/board.php?bo_table=member&page='+str(i)\n",
    "    base = requests.get(url)\n",
    "    html = BeautifulSoup(base.text, 'html.parser') \n",
    "    tag = html.select('td.td_subject > a')\n",
    "\n",
    "    for tags in tag :\n",
    "        link_.append(tags['href'])\n"
   ]
  },
  {
   "cell_type": "code",
   "execution_count": 38,
   "metadata": {},
   "outputs": [],
   "source": [
    "alldfcontents = []\n",
    "\n",
    "for i in link_:\n",
    "    url = i\n",
    "    base = requests.get(url)\n",
    "    soup = BeautifulSoup(base.text, 'html.parser') \n",
    "    \n",
    "    contents = soup.select('#bo_v_atc > div.tbl_frm01.tbl_wrap > table')\n",
    "\n",
    "    dfcontent = []\n",
    "        \n",
    "    for content in contents:\n",
    "        tds = content.find_all(\"td\")\n",
    "        for td in tds:\n",
    "            dfcontent.append(td.text)              \n",
    "        alldfcontents.append(dfcontent)\n",
    "        \n",
    "    df = pd.DataFrame(columns=['지역','상호명','대표자','전화번호','팩스번호','주소','구분','주력내용'],data=alldfcontents)"
   ]
  },
  {
   "cell_type": "code",
   "execution_count": 43,
   "metadata": {},
   "outputs": [],
   "source": [
    "df.to_excel('C:/Users/Bigdata_Team_1/Desktop/SA/건설기계정비협회.xlsx')"
   ]
  }
 ],
 "metadata": {
  "kernelspec": {
   "display_name": "Python 3",
   "language": "python",
   "name": "python3"
  },
  "language_info": {
   "codemirror_mode": {
    "name": "ipython",
    "version": 3
   },
   "file_extension": ".py",
   "mimetype": "text/x-python",
   "name": "python",
   "nbconvert_exporter": "python",
   "pygments_lexer": "ipython3",
   "version": "3.7.3"
  }
 },
 "nbformat": 4,
 "nbformat_minor": 2
}
