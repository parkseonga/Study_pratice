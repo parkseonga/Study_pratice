{
 "cells": [
  {
   "cell_type": "markdown",
   "metadata": {},
   "source": [
    "#### 크롤링한 데이터 csv 파일로 바로 저장하기 "
   ]
  },
  {
   "cell_type": "markdown",
   "metadata": {},
   "source": [
    "* sample"
   ]
  },
  {
   "cell_type": "code",
   "execution_count": null,
   "metadata": {},
   "outputs": [],
   "source": [
    "import csv\n",
    "\n",
    "# window에서는 writerow객체에 입력한 값 다음에 줄을 한 칸씩 띄워 저장하기 때문에 newline='' 옵션 추가 \n",
    "csvFile = open(\"test.csv\",\"wt\",newline='')\n",
    "\n",
    "try:\n",
    "    writer = csv.writer(csvFile)\n",
    "    \n",
    "    #  컬럼명 입력 \n",
    "    writer.writerow(('number1','number2','number3')) # list형태와 tuple형태 둘다 가능 튜플일 경우 (()) 괄호가 두개가 맞는지 확인\n",
    "    \n",
    "    for i in range(20):\n",
    "        # 데이터 입력 \n",
    "        # line 마다 저장되도록 \n",
    "        writer.writerow((i,i+2,i*2))  # list형태와 tuple형태 둘다 가능 튜플일 경우 (()) 괄호가 두개가 맞는지 확인\n",
    "finally:\n",
    "     csvFile.close()"
   ]
  },
  {
   "cell_type": "code",
   "execution_count": 9,
   "metadata": {},
   "outputs": [
    {
     "data": {
      "text/plain": [
       "'C:\\\\Users\\\\a0105\\\\Desktop\\\\개인\\\\수업\\\\데이터 아키텍처'"
      ]
     },
     "execution_count": 9,
     "metadata": {},
     "output_type": "execute_result"
    }
   ],
   "source": [
    "# 경로를 따로 지정하지 않았기 때문에 현재경로에 지정됨 \n",
    "pwd()"
   ]
  },
  {
   "cell_type": "markdown",
   "metadata": {},
   "source": [
    "* finviz사이트에서 nvda 주식 가져오기"
   ]
  },
  {
   "cell_type": "code",
   "execution_count": 33,
   "metadata": {},
   "outputs": [],
   "source": [
    "import csv\n",
    "from urllib.request import urlopen, Request\n",
    "from bs4 import BeautifulSoup as bs\n",
    "\n",
    "csvFile = open(\"fundamental.csv\",\"wt\",newline=\"\")\n",
    "\n",
    "writer = csv.writer(csvFile)\n",
    "\n",
    "# {}안에 값만 바뀜\n",
    "url = \"https://finviz.com/quote.ashx?t={}\".format(\"NVDA\".lower())\n",
    "#url = \"https://finviz.com/quote.ashx?t=nvda\"\n",
    "req = Request(url)\n",
    "html = urlopen(req).read()\n",
    "soup = bs(html,\"lxml\")\n",
    "\n",
    "names = soup.findAll(class_=\"snapshot-td2-cp\")\n",
    "datas = soup.findAll(class_=\"snapshot-td2\")\n",
    "\n",
    "try:\n",
    "        for i in range(len(names)):\n",
    "            name = names[i].getText()\n",
    "            data = datas[i].getText()\n",
    "            writer.writerow((\"NVDA\",name,data))\n",
    "            \n",
    "finally:\n",
    "    csvFile.close()"
   ]
  }
 ],
 "metadata": {
  "kernelspec": {
   "display_name": "Python 3",
   "language": "python",
   "name": "python3"
  },
  "language_info": {
   "codemirror_mode": {
    "name": "ipython",
    "version": 3
   },
   "file_extension": ".py",
   "mimetype": "text/x-python",
   "name": "python",
   "nbconvert_exporter": "python",
   "pygments_lexer": "ipython3",
   "version": "3.7.6"
  }
 },
 "nbformat": 4,
 "nbformat_minor": 4
}
