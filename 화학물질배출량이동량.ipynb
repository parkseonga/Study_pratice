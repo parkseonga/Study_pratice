{
 "cells": [
  {
   "cell_type": "code",
   "execution_count": 1,
   "metadata": {},
   "outputs": [],
   "source": [
    "from lxml import etree\n",
    "import xml.etree.ElementTree as ElementTree\n",
    "import pandas as pd"
   ]
  },
  {
   "cell_type": "code",
   "execution_count": 2,
   "metadata": {},
   "outputs": [],
   "source": [
    "from urllib.request import urlopen\n",
    "from urllib.parse import urlencode,unquote,quote_plus\n",
    "import urllib"
   ]
  },
  {
   "cell_type": "markdown",
   "metadata": {},
   "source": [
    "* 업체별 화학물질 배출량 이동량 정보"
   ]
  },
  {
   "cell_type": "code",
   "execution_count": 13,
   "metadata": {},
   "outputs": [],
   "source": [
    "request = urllib.request.Request('http://apis.data.go.kr/1520635/OceanMensurationService/getOceanMesurationListrisa?serviceKey=G%2FQ8yXEc3%2Bry%2B56fhsGr1CfV2X033ZCCI0IR7uQx%2BPc12KBz04Q7EGIxr5MMJW0aTpc1oT3%2F%2BGa76rFSD0c5tw%3D%3D&GRU_NAM=001&SDATE=20140909&EDATE=20200109&numOfRows=10')\n",
    "request.get_method = lambda: 'GET'\n",
    "response_body = urlopen(request).read()"
   ]
  },
  {
   "cell_type": "code",
   "execution_count": 16,
   "metadata": {},
   "outputs": [
    {
     "name": "stdout",
     "output_type": "stream",
     "text": [
      "http://apis.data.go.kr/1520635/OceanMensurationService/getOceanMesurationListrisa?serviceKey=G%2FQ8yXEc3%2Bry%2B56fhsGr1CfV2X033ZCCI0IR7uQx%2BPc12KBz04Q7EGIxr5MMJW0aTpc1oT3%2F%2BGa76rFSD0c5tw%3D%3D&GRU_NAM=001&SDATE=20140909&EDATE=20150909&numOfRows=10\n"
     ]
    }
   ],
   "source": [
    "http://apis.data.go.kr/1520635/OceanMensurationService/getOceanMesurationListrisa?serviceKey=ATCudNGr0oTHALM9VkklP3sf6tY0eSWTKRxkl%2FQ4saHwtBWRx734FvouZQucjV%2FzbQd5MFwOpOzju3NhGtAVnQ%3D%3D&GRU_NAM=001&SDATE=20140909&EDATE=20141010"
   ]
  },
  {
   "cell_type": "code",
   "execution_count": 37,
   "metadata": {},
   "outputs": [],
   "source": [
    "a = []\n",
    "b = []\n",
    "c = []\n",
    "d = []\n",
    "e = []\n",
    "f = []\n",
    "g = []\n",
    "h = []\n",
    "i = []\n",
    "j = []\n",
    "k = []"
   ]
  },
  {
   "cell_type": "code",
   "execution_count": 38,
   "metadata": {},
   "outputs": [],
   "source": [
    "tree = etree.fromstring(response_body)"
   ]
  },
  {
   "cell_type": "code",
   "execution_count": 39,
   "metadata": {},
   "outputs": [],
   "source": [
    "# 태그로부터 원하는 텍스트 추출\n",
    "for media in tree.getiterator('item'):\n",
    "    a.append(media.findtext('air'))\n",
    "    b.append(media.findtext('BSum'))\n",
    "    c.append(media.findtext('companyId'))\n",
    "    d.append(media.findtext('companyName')) \n",
    "    e.append(media.findtext('jaga'))\n",
    "    f.append(media.findtext('pyegi'))\n",
    "    g.append(media.findtext('pyesoo'))   \n",
    "    h.append(media.findtext('soil'))\n",
    "    i.append(media.findtext('upjongName'))\n",
    "    j.append(media.findtext('water'))\n",
    "    k.append(media.findtext('ISum'))   "
   ]
  },
  {
   "cell_type": "code",
   "execution_count": 42,
   "metadata": {},
   "outputs": [
    {
     "data": {
      "text/plain": [
       "3732"
      ]
     },
     "execution_count": 42,
     "metadata": {},
     "output_type": "execute_result"
    }
   ],
   "source": [
    "len(i)"
   ]
  },
  {
   "cell_type": "code",
   "execution_count": 43,
   "metadata": {},
   "outputs": [],
   "source": [
    "df1 = pd.DataFrame(a,columns=['대기배출량'])\n",
    "df2 = pd.DataFrame(b,columns=['배출량'])\n",
    "df3 = pd.DataFrame(c,columns=['업체아이디'])\n",
    "df4 = pd.DataFrame(d,columns=['업체명'])\n",
    "df5 = pd.DataFrame(e,columns=['자가매립량'])\n",
    "df6 = pd.DataFrame(f,columns=['폐기물이동량'])\n",
    "df7 = pd.DataFrame(g,columns=['폐수이동량'])\n",
    "df8 = pd.DataFrame(h,columns=['토양배출량'])\n",
    "df9 = pd.DataFrame(i,columns=['업종명'])\n",
    "df10 = pd.DataFrame(j,columns=['수계배출량'])\n",
    "df11 = pd.DataFrame(k,columns=['이동량'])"
   ]
  },
  {
   "cell_type": "code",
   "execution_count": 52,
   "metadata": {},
   "outputs": [],
   "source": [
    "df = pd.concat([df3,df4,df1,df2,df5,df6,df7,df8,df9,df10,df11],axis=1)"
   ]
  },
  {
   "cell_type": "code",
   "execution_count": 53,
   "metadata": {},
   "outputs": [
    {
     "data": {
      "text/plain": [
       "(3732, 11)"
      ]
     },
     "execution_count": 53,
     "metadata": {},
     "output_type": "execute_result"
    }
   ],
   "source": [
    "df.shape"
   ]
  },
  {
   "cell_type": "code",
   "execution_count": 54,
   "metadata": {},
   "outputs": [
    {
     "data": {
      "text/plain": [
       "(3732, 11)"
      ]
     },
     "execution_count": 54,
     "metadata": {},
     "output_type": "execute_result"
    }
   ],
   "source": [
    "df.drop_duplicates().shape"
   ]
  },
  {
   "cell_type": "code",
   "execution_count": 56,
   "metadata": {},
   "outputs": [],
   "source": [
    "df.to_excel(r'C:\\Users\\Bigdata_Team_1\\Desktop\\SA\\화학\\업체별 화학물질 배출량.xlsx')"
   ]
  },
  {
   "cell_type": "markdown",
   "metadata": {},
   "source": [
    "* 물질별 화학물질 배출량 이동량 정보"
   ]
  },
  {
   "cell_type": "code",
   "execution_count": 1,
   "metadata": {},
   "outputs": [],
   "source": [
    "a = []\n",
    "b = []\n",
    "c = []\n",
    "d = []\n",
    "e = []\n",
    "f = []\n",
    "g = []\n",
    "h = []\n",
    "i = []\n",
    "j = []\n",
    "k = []\n",
    "l = []"
   ]
  },
  {
   "cell_type": "code",
   "execution_count": 5,
   "metadata": {},
   "outputs": [],
   "source": [
    "request = urllib.request.Request('http://icis.me.go.kr/openapi/service/prtr/getPrtrMttrList?pageNo='+\n",
    "                                     str(1)+'&numOfRows=13712&accessKey=dGpkZ3VyMjY1QG5hdmVyLmNvbTM1Njk=&searchYear=2016')\n",
    "request.get_method = lambda: 'GET'\n",
    "response_body = urlopen(request).read()\n",
    "    \n",
    "tree = etree.fromstring(response_body)\n",
    "    \n",
    "for media in tree.getiterator('item'):\n",
    "    a.append(media.findtext('air'))\n",
    "    b.append(media.findtext('BSum'))\n",
    "    c.append(media.findtext('casNo'))\n",
    "    d.append(media.findtext('companyId')) \n",
    "    e.append(media.findtext('companyName'))\n",
    "    f.append(media.findtext('ISum'))    \n",
    "    g.append(media.findtext('jaga'))    \n",
    "    h.append(media.findtext('mttrName'))    \n",
    "    i.append(media.findtext('pyegi'))    \n",
    "    j.append(media.findtext('pyesoo'))    \n",
    "    k.append(media.findtext('soil'))    \n",
    "    l.append(media.findtext('water')) "
   ]
  },
  {
   "cell_type": "code",
   "execution_count": 6,
   "metadata": {},
   "outputs": [
    {
     "data": {
      "text/plain": [
       "13712"
      ]
     },
     "execution_count": 6,
     "metadata": {},
     "output_type": "execute_result"
    }
   ],
   "source": [
    "len(a)"
   ]
  },
  {
   "cell_type": "code",
   "execution_count": 7,
   "metadata": {},
   "outputs": [],
   "source": [
    "# 데이터프레임 형식으로 만들기\n",
    "df1 = pd.DataFrame(a,columns=['대기배출량'])\n",
    "df2 = pd.DataFrame(b,columns=['배출량'])\n",
    "df3 = pd.DataFrame(c,columns=['caseNo'])\n",
    "df4 = pd.DataFrame(d,columns=['업체아이디'])\n",
    "df5 = pd.DataFrame(e,columns=['업체명'])\n",
    "df6 = pd.DataFrame(f,columns=['이동량'])\n",
    "df7 = pd.DataFrame(g,columns=['자가매립량'])\n",
    "df8 = pd.DataFrame(h,columns=['물질명'])\n",
    "df9 = pd.DataFrame(i,columns=['폐기물이동량'])\n",
    "df10 = pd.DataFrame(j,columns=['폐수이동량'])\n",
    "df11 = pd.DataFrame(k,columns=['토양배출량'])\n",
    "df12 = pd.DataFrame(l,columns=['수계배출량'])\n",
    "\n",
    "df = pd.concat([df4,df5,df1,df2,df3,df6,df7,df8,df9,df10,df11,df12],axis=1)"
   ]
  },
  {
   "cell_type": "code",
   "execution_count": 8,
   "metadata": {},
   "outputs": [
    {
     "data": {
      "text/html": [
       "<div>\n",
       "<style scoped>\n",
       "    .dataframe tbody tr th:only-of-type {\n",
       "        vertical-align: middle;\n",
       "    }\n",
       "\n",
       "    .dataframe tbody tr th {\n",
       "        vertical-align: top;\n",
       "    }\n",
       "\n",
       "    .dataframe thead th {\n",
       "        text-align: right;\n",
       "    }\n",
       "</style>\n",
       "<table border=\"1\" class=\"dataframe\">\n",
       "  <thead>\n",
       "    <tr style=\"text-align: right;\">\n",
       "      <th></th>\n",
       "      <th>업체아이디</th>\n",
       "      <th>업체명</th>\n",
       "      <th>대기배출량</th>\n",
       "      <th>배출량</th>\n",
       "      <th>caseNo</th>\n",
       "      <th>이동량</th>\n",
       "      <th>자가매립량</th>\n",
       "      <th>물질명</th>\n",
       "      <th>폐기물이동량</th>\n",
       "      <th>폐수이동량</th>\n",
       "      <th>토양배출량</th>\n",
       "      <th>수계배출량</th>\n",
       "    </tr>\n",
       "  </thead>\n",
       "  <tbody>\n",
       "    <tr>\n",
       "      <th>0</th>\n",
       "      <td>1250145083732156575</td>\n",
       "      <td>(유)랍 코리아</td>\n",
       "      <td>0</td>\n",
       "      <td>0</td>\n",
       "      <td>NA-(주10)</td>\n",
       "      <td>5,726</td>\n",
       "      <td>0</td>\n",
       "      <td>알루미늄 및 그 화합물</td>\n",
       "      <td>5,726</td>\n",
       "      <td>0</td>\n",
       "      <td>0</td>\n",
       "      <td>0</td>\n",
       "    </tr>\n",
       "    <tr>\n",
       "      <th>1</th>\n",
       "      <td>1250145083732156575</td>\n",
       "      <td>(유)랍 코리아</td>\n",
       "      <td>0</td>\n",
       "      <td>0</td>\n",
       "      <td>NA-(주15)</td>\n",
       "      <td>0</td>\n",
       "      <td>0</td>\n",
       "      <td>구리 및 그 화합물</td>\n",
       "      <td>0</td>\n",
       "      <td>0</td>\n",
       "      <td>0</td>\n",
       "      <td>0</td>\n",
       "    </tr>\n",
       "    <tr>\n",
       "      <th>2</th>\n",
       "      <td>1250145083732156575</td>\n",
       "      <td>(유)랍 코리아</td>\n",
       "      <td>0</td>\n",
       "      <td>0</td>\n",
       "      <td>NA-(주20)</td>\n",
       "      <td>0</td>\n",
       "      <td>0</td>\n",
       "      <td>아연 및 그 화합물</td>\n",
       "      <td>0</td>\n",
       "      <td>0</td>\n",
       "      <td>0</td>\n",
       "      <td>0</td>\n",
       "    </tr>\n",
       "    <tr>\n",
       "      <th>3</th>\n",
       "      <td>1184</td>\n",
       "      <td>(유)보금</td>\n",
       "      <td>19,362</td>\n",
       "      <td>19,362</td>\n",
       "      <td>000108-88-3</td>\n",
       "      <td>8,698</td>\n",
       "      <td>0</td>\n",
       "      <td>톨루엔</td>\n",
       "      <td>8,698</td>\n",
       "      <td>0</td>\n",
       "      <td>0</td>\n",
       "      <td>0</td>\n",
       "    </tr>\n",
       "    <tr>\n",
       "      <th>4</th>\n",
       "      <td>1184</td>\n",
       "      <td>(유)보금</td>\n",
       "      <td>11,585</td>\n",
       "      <td>11,585</td>\n",
       "      <td>001330-20-7</td>\n",
       "      <td>2,045</td>\n",
       "      <td>0</td>\n",
       "      <td>자일렌(o-,m-,p- 이성질체 혼합물)</td>\n",
       "      <td>2,045</td>\n",
       "      <td>0</td>\n",
       "      <td>0</td>\n",
       "      <td>0</td>\n",
       "    </tr>\n",
       "  </tbody>\n",
       "</table>\n",
       "</div>"
      ],
      "text/plain": [
       "                 업체아이디       업체명          대기배출량            배출량       caseNo  \\\n",
       "0  1250145083732156575  (유)랍 코리아              0              0     NA-(주10)   \n",
       "1  1250145083732156575  (유)랍 코리아              0              0     NA-(주15)   \n",
       "2  1250145083732156575  (유)랍 코리아              0              0     NA-(주20)   \n",
       "3                 1184     (유)보금         19,362         19,362  000108-88-3   \n",
       "4                 1184     (유)보금         11,585         11,585  001330-20-7   \n",
       "\n",
       "             이동량          자가매립량                     물질명         폐기물이동량  \\\n",
       "0          5,726              0            알루미늄 및 그 화합물          5,726   \n",
       "1              0              0              구리 및 그 화합물              0   \n",
       "2              0              0              아연 및 그 화합물              0   \n",
       "3          8,698              0                     톨루엔          8,698   \n",
       "4          2,045              0  자일렌(o-,m-,p- 이성질체 혼합물)          2,045   \n",
       "\n",
       "           폐수이동량          토양배출량          수계배출량  \n",
       "0              0              0              0  \n",
       "1              0              0              0  \n",
       "2              0              0              0  \n",
       "3              0              0              0  \n",
       "4              0              0              0  "
      ]
     },
     "execution_count": 8,
     "metadata": {},
     "output_type": "execute_result"
    }
   ],
   "source": [
    "df.head()"
   ]
  },
  {
   "cell_type": "code",
   "execution_count": 10,
   "metadata": {},
   "outputs": [],
   "source": [
    "df.to_excel('C:/Users/Bigdata_Team_1/Desktop/화학물질배출량이동량/물질.xlsx')"
   ]
  },
  {
   "cell_type": "markdown",
   "metadata": {},
   "source": [
    "* 웹크롤링으로 주소 크롤링한 후 업체정보와 합친 데이터 불러오기 "
   ]
  },
  {
   "cell_type": "code",
   "execution_count": null,
   "metadata": {},
   "outputs": [],
   "source": [
    "name = pd.read_excel('C:/Users/Bigdata_Team_1/Desktop/업체별 화학물질 배출량.xlsx')"
   ]
  },
  {
   "cell_type": "code",
   "execution_count": null,
   "metadata": {},
   "outputs": [],
   "source": [
    "name2 = name[['업체아이디','업체명','주소','업종명']]"
   ]
  },
  {
   "cell_type": "code",
   "execution_count": null,
   "metadata": {},
   "outputs": [],
   "source": [
    "df2 = pd.read_excel('C:/Users/Bigdata_Team_1/Desktop/물질.xlsx')"
   ]
  },
  {
   "cell_type": "code",
   "execution_count": null,
   "metadata": {},
   "outputs": [],
   "source": [
    "total = pd.merge(name2,df2,on='업체아이디')"
   ]
  },
  {
   "cell_type": "code",
   "execution_count": null,
   "metadata": {},
   "outputs": [],
   "source": [
    "total.to_excel('C:/Users/a0105/Desktop/최종결과물.xlsx')"
   ]
  }
 ],
 "metadata": {
  "kernelspec": {
   "display_name": "Python 3",
   "language": "python",
   "name": "python3"
  },
  "language_info": {
   "codemirror_mode": {
    "name": "ipython",
    "version": 3
   },
   "file_extension": ".py",
   "mimetype": "text/x-python",
   "name": "python",
   "nbconvert_exporter": "python",
   "pygments_lexer": "ipython3",
   "version": "3.7.3"
  }
 },
 "nbformat": 4,
 "nbformat_minor": 2
}
