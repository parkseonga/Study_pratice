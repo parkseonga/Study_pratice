{
 "cells": [
  {
   "cell_type": "markdown",
   "metadata": {},
   "source": [
    "### ajax를 이용하여 웹크롤링"
   ]
  },
  {
   "cell_type": "markdown",
   "metadata": {},
   "source": [
    "- ajax: 비동기식 자바스크립트와 xml의 약어\n",
    "    - 브라우저가 가지고 있는 xmlhttprequest를 통해 전체 페이지를 새로 고치치 않고도 페이지의 일부만을 로드하는 기법\n",
    "    - 비동기식: 웹페이지를 리로드하지않고 데이터를 불러오는 방식\n",
    "    - 사용이유: HTTP 프로토콜은 한 번 통신하고 대기 상태로 연결이 끊어지는데 화면의 내용을 갱신하기 위해서는 다시 request와 response해야 페이지가 갱신되는데 페이지의 일부분만 갱신할 경우에도 페이지 전체를 다시 로드해야되기 때문에 자원과 시간 낭비를 초래함 \n",
    "    - 장점\n",
    "        1. 웹페이지의 속도 향상\n",
    "        2. 서버의 처리가 완료될 때까지 기다리지 않고 처리 가능\n",
    "        3. 서버에서 data만 전송하면 되기 때문에 전체적인 코딩의 양이 줄어듦\n",
    "        4. 기존 웹에서는 불가능했던 다양한 UI를 가능하게 해줌\n",
    "    - 단점\n",
    "        1. 히스토리 관리가 안됨(사용자의 로그가 남기 때문)\n",
    "        2. 연속으로 데이터를 요청하면 서버 부하 증가 가능\n",
    "        3. 사용자에게 진행 정보가 주어지지 않으므로 아직 요청이 완료되지 않았는데 사용자가 request하면 오류 발생 "
   ]
  },
  {
   "cell_type": "markdown",
   "metadata": {},
   "source": [
    "* 페이지 소스보기를 했는데 가져오고자 하는 내용이 없으면 데이터가 보관되어 있는 주소를 따로 찾아내야함\n",
    "\n",
    " - 방법\n",
    "      1. 개발자도구 - Network\n",
    "      2. 빨간색 버튼을 누르고 일별 시세 클릭 후 다시 클릭 후 XHR 클릭\n",
    "      3. copy링크를 통해 확인 후 개발자도구를 통해 구조 확인 "
   ]
  },
  {
   "cell_type": "code",
   "execution_count": 19,
   "metadata": {},
   "outputs": [],
   "source": [
    "from urllib.request import urlopen\n",
    "import urllib.parse\n",
    "import csv\n",
    "import time\n",
    "from bs4 import BeautifulSoup"
   ]
  },
  {
   "cell_type": "code",
   "execution_count": 3,
   "metadata": {},
   "outputs": [],
   "source": [
    "url = 'https://www.sedaily.com/Stock/Content/StockInfoDetailDayAjax?Page=1&market=1&StockCode=005930&_=1586224968388'"
   ]
  },
  {
   "cell_type": "code",
   "execution_count": 17,
   "metadata": {},
   "outputs": [
    {
     "name": "stdout",
     "output_type": "stream",
     "text": [
      "https://www.sedaily.com/Stock/Content/StockInfoDetailDayAjax?Page=10&market=1&StockCode=005930&_=1586224968388\n",
      "80\n",
      "https://www.sedaily.com/Stock/Content/StockInfoDetailDayAjax?Page=9&market=1&StockCode=005930&_=1586224968388\n",
      "80\n",
      "https://www.sedaily.com/Stock/Content/StockInfoDetailDayAjax?Page=8&market=1&StockCode=005930&_=1586224968388\n",
      "80\n",
      "https://www.sedaily.com/Stock/Content/StockInfoDetailDayAjax?Page=7&market=1&StockCode=005930&_=1586224968388\n",
      "80\n",
      "https://www.sedaily.com/Stock/Content/StockInfoDetailDayAjax?Page=6&market=1&StockCode=005930&_=1586224968388\n",
      "40\n",
      "https://www.sedaily.com/Stock/Content/StockInfoDetailDayAjax?Page=5&market=1&StockCode=005930&_=1586224968388\n",
      "80\n",
      "https://www.sedaily.com/Stock/Content/StockInfoDetailDayAjax?Page=4&market=1&StockCode=005930&_=1586224968388\n",
      "40\n",
      "https://www.sedaily.com/Stock/Content/StockInfoDetailDayAjax?Page=3&market=1&StockCode=005930&_=1586224968388\n",
      "40\n",
      "https://www.sedaily.com/Stock/Content/StockInfoDetailDayAjax?Page=2&market=1&StockCode=005930&_=1586224968388\n",
      "80\n",
      "https://www.sedaily.com/Stock/Content/StockInfoDetailDayAjax?Page=1&market=1&StockCode=005930&_=1586224968388\n",
      "40\n"
     ]
    }
   ],
   "source": [
    "page = 10\n",
    "while page >=1:\n",
    "    csvFile = open(\"stock_0059330_4.csv\",\"a\",newline=\"\")  #\"a\" : append |\"W\":write\n",
    "    writer = csv.writer(csvFile)\n",
    "    \n",
    "    url1='https://www.sedaily.com/Stock/Content/StockInfoDetailDayAjax?Page='\n",
    "    url2='&market=1&StockCode=005930&_=1586224968388'\n",
    "    \n",
    "    full_url = url1 + str(page) +url2\n",
    "    print(full_url)\n",
    "    \n",
    "    html = urlopen(full_url)\n",
    "    \n",
    "    bsObject = BeautifulSoup(html,'html.parser')\n",
    "    \n",
    "    tbody_daily_tbody = bsObject.find('tbody',{'id':'tbody_daily'})\n",
    "    \n",
    "    try:\n",
    "        alist = []\n",
    "        blist = tbody_daily_tbody.find_all('td')\n",
    "        print(len(blist))\n",
    "\n",
    "        for x in range(0,len(blist)):\n",
    "            all_td_in_tbody_daily_tbody = tbody_daily_tbody.find_all('td')[x].get_text()\n",
    "            alist.append(all_td_in_tbody_daily_tbody)\n",
    "\n",
    "        for y in range(0,len(alist),8):\n",
    "            writer.writerow(alist[y:y+8])\n",
    "        \n",
    "    finally:\n",
    "        csvFile.close()\n",
    "            \n",
    "    page -=1\n",
    "\n",
    "    time.sleep(2)   \n",
    "    "
   ]
  },
  {
   "cell_type": "markdown",
   "metadata": {},
   "source": [
    "open함수 사용시 미래 데이터는 옵션을 a로 주는 것 잊지 말기, 과거 데이터는 w를 사용하는 것이 편함."
   ]
  },
  {
   "cell_type": "code",
   "execution_count": 18,
   "metadata": {},
   "outputs": [
    {
     "data": {
      "text/plain": [
       "'C:\\\\Users\\\\a0105\\\\Desktop\\\\개인\\\\수업\\\\데이터 아키텍처'"
      ]
     },
     "execution_count": 18,
     "metadata": {},
     "output_type": "execute_result"
    }
   ],
   "source": [
    "pwd()"
   ]
  },
  {
   "cell_type": "code",
   "execution_count": null,
   "metadata": {},
   "outputs": [],
   "source": []
  }
 ],
 "metadata": {
  "kernelspec": {
   "display_name": "Python 3",
   "language": "python",
   "name": "python3"
  },
  "language_info": {
   "codemirror_mode": {
    "name": "ipython",
    "version": 3
   },
   "file_extension": ".py",
   "mimetype": "text/x-python",
   "name": "python",
   "nbconvert_exporter": "python",
   "pygments_lexer": "ipython3",
   "version": "3.7.6"
  }
 },
 "nbformat": 4,
 "nbformat_minor": 4
}
