{
 "cells": [
  {
   "cell_type": "code",
   "execution_count": 5,
   "metadata": {},
   "outputs": [],
   "source": [
    "import pandas as pd"
   ]
  },
  {
   "cell_type": "code",
   "execution_count": 31,
   "metadata": {},
   "outputs": [],
   "source": [
    "import tensorflow as tf\n",
    "import numpy as np\n",
    "import matplotlib.pyplot as plt\n",
    "\n",
    "tf.reset_default_graph()\n",
    "tf.set_random_seed(777) # reproducibility\n"
   ]
  },
  {
   "cell_type": "code",
   "execution_count": 40,
   "metadata": {},
   "outputs": [],
   "source": [
    "# 정규화 \n",
    "def MinMaxScaler(data):\n",
    "    numerator = data - np.min(data, 0)\n",
    "    denominator = np.max(data, 0) - np.min(data, 0)\n",
    "    # noise term prevents the zero division\n",
    "    return numerator / (denominator + 1e-7)\n",
    "\n",
    "# 학습 파라미터 설정 \n",
    "seq_length = 500\n",
    "data_dim = 3\n",
    "hidden_dim = 32\n",
    "output_dim = 10\n",
    "learning_rate = 0.01\n",
    "iterations = 150\n",
    "\n",
    "# Open, High, Low, Volume, Close\n",
    "xy = np.loadtxt('IBP_2.csv', delimiter=',',skiprows=1)"
   ]
  },
  {
   "cell_type": "code",
   "execution_count": 24,
   "metadata": {},
   "outputs": [],
   "source": [
    "xy = MinMaxScaler(xy)\n",
    "x = xy[:10000,]\n",
    "y = xy[:10000, [0]]  # 종속 변수 "
   ]
  },
  {
   "cell_type": "code",
   "execution_count": 25,
   "metadata": {
    "scrolled": true
   },
   "outputs": [],
   "source": [
    "# build a dataset\n",
    "dataX = []\n",
    "dataY = []\n",
    "for i in range(0, len(y) - seq_length - 9):\n",
    "    _x = x[i:i + seq_length]\n",
    "    _y = np.array(y[(i + seq_length):(i + seq_length + 10)].flatten()) # Next close price\n",
    "    dataX.append(_x)\n",
    "    dataY.append(_y)\n",
    "    \n",
    "# train/test split\n",
    "train_size = int(len(dataY) * 0.7)\n",
    "test_size = len(dataY) - train_size\n",
    "\n",
    "trainX, testX = np.array(dataX[0:train_size]), np.array(dataX[train_size:len(dataX)])\n",
    "trainY, testY = np.array(dataY[0:train_size]), np.array(dataY[train_size:len(dataY)])\n"
   ]
  },
  {
   "cell_type": "code",
   "execution_count": 26,
   "metadata": {},
   "outputs": [
    {
     "data": {
      "text/plain": [
       "(2848, 10)"
      ]
     },
     "execution_count": 26,
     "metadata": {},
     "output_type": "execute_result"
    }
   ],
   "source": [
    "testY.shape"
   ]
  },
  {
   "cell_type": "code",
   "execution_count": 27,
   "metadata": {},
   "outputs": [
    {
     "data": {
      "text/plain": [
       "(6643, 10)"
      ]
     },
     "execution_count": 27,
     "metadata": {},
     "output_type": "execute_result"
    }
   ],
   "source": [
    "trainY.shape"
   ]
  },
  {
   "cell_type": "code",
   "execution_count": 28,
   "metadata": {},
   "outputs": [
    {
     "data": {
      "text/plain": [
       "(2848, 500, 3)"
      ]
     },
     "execution_count": 28,
     "metadata": {},
     "output_type": "execute_result"
    }
   ],
   "source": [
    "testX.shape"
   ]
  },
  {
   "cell_type": "code",
   "execution_count": 29,
   "metadata": {},
   "outputs": [
    {
     "data": {
      "text/plain": [
       "(6643, 500, 3)"
      ]
     },
     "execution_count": 29,
     "metadata": {},
     "output_type": "execute_result"
    }
   ],
   "source": [
    "trainX.shape"
   ]
  },
  {
   "cell_type": "markdown",
   "metadata": {},
   "source": [
    "### 모델의 층 생성 "
   ]
  },
  {
   "cell_type": "code",
   "execution_count": 32,
   "metadata": {},
   "outputs": [],
   "source": [
    "# input place holders\n",
    "X = tf.placeholder(tf.float32, [None, seq_length, data_dim])\n",
    "Y = tf.placeholder(tf.float32, [None, 10])  # output_dim 수 = 2\n",
    "\n",
    "# build a LSTM network\n",
    "# cell = tf.contrib.rnn.BasicRNNCell(num_units=hidden_dim, activation=tf.tanh)\n",
    "# cell = tf.contrib.rnn.GRUCell(num_units=hidden_dim, activation=tf.tanh)\n",
    "cell = tf.contrib.rnn.BasicLSTMCell(num_units=hidden_dim, activation=tf.tanh)\n",
    "\n",
    "outputs, states = tf.nn.dynamic_rnn(cell, X, dtype=tf.float32)\n"
   ]
  },
  {
   "cell_type": "code",
   "execution_count": 33,
   "metadata": {},
   "outputs": [],
   "source": [
    "# many-to-one 모델이기 때문에 -1\n",
    "Y_pred = tf.contrib.layers.fully_connected(outputs[:, -1], output_dim, activation_fn=None)"
   ]
  },
  {
   "cell_type": "code",
   "execution_count": 34,
   "metadata": {},
   "outputs": [],
   "source": [
    "# cost/loss\n",
    "loss = tf.reduce_sum(tf.square(Y_pred - Y)) # sum of the squares\n",
    "# optimizer\n",
    "optimizer = tf.train.AdamOptimizer(learning_rate)\n",
    "train = optimizer.minimize(loss)\n",
    "\n",
    "# RMSE\n",
    "targets = tf.placeholder(tf.float32, [None, 10])\n",
    "predictions = tf.placeholder(tf.float32, [None, 10])\n",
    "rmse = tf.sqrt(tf.reduce_mean(tf.square(targets - predictions)))\n",
    "mape = tf.reduce_mean(tf.abs(tf.divide(tf.subtract(predictions,targets),targets)))"
   ]
  },
  {
   "cell_type": "markdown",
   "metadata": {},
   "source": [
    "### EarlyStopping 함수 생성"
   ]
  },
  {
   "cell_type": "code",
   "execution_count": 35,
   "metadata": {},
   "outputs": [],
   "source": [
    "class EarlyStopping():\n",
    "    def __init__(self, patience=0, verbose=0):\n",
    "        self._loss = float('inf')\n",
    "        self._step = 0\n",
    "        self.patience  = patience\n",
    "        self.verbose = verbose\n",
    "\n",
    "    def validate(self, loss):\n",
    "        if self._loss < loss:\n",
    "            self._step += 1\n",
    "            if self._step > self.patience:\n",
    "                if self.verbose:\n",
    "                    print(f'Training process is stopped early....')\n",
    "                return True\n",
    "        else:\n",
    "            self._loss = loss\n",
    "            self._step = 0\n",
    "\n",
    "        return False\n",
    "    \n",
    "early_stopping = EarlyStopping(patience=10, verbose=1)\n",
    "# monitor: 어떤 성능을 모니터링 할 것인가\n",
    "# trigger: 언제 학습을 멈출 것인가?\n",
    "# verbose: 학습의 진행상황을 보여줄 것인가?\n",
    "# patience: 모델이 아직 더 향상될 수 있지만, 우연히 validation loss가 낮게 나와버려서 훈련이 종료되버리는 상황을 피하기 위한 옐로우 카드\n",
    "# 예를 들어 patioence가 10인 경우\n",
    "# 20번째 epoch 까지 loss 가 감소하다가 21번째 부터 증가한다고 했을 때 30번 째 epoch에서 종료. \n",
    "# earlystopping 은 훈련을 언제 종료할 지 결정하는 것일 뿐 best 성능을 갖는 모델을 저장하는 것이 아니므로 best 성능을 갖는 모델을 저장하는 callback 함수를 반드시 활용해야한다!\n"
   ]
  },
  {
   "cell_type": "markdown",
   "metadata": {},
   "source": [
    "### 모델 적용 "
   ]
  },
  {
   "cell_type": "code",
   "execution_count": 36,
   "metadata": {
    "scrolled": false
   },
   "outputs": [
    {
     "name": "stdout",
     "output_type": "stream",
     "text": [
      "[step: 0] loss: 44612.32421875\n",
      "RMSE: 0.7980151772499084\n",
      "MAPE: 0.9150944352149963\n",
      "[step: 1] loss: 38131.7265625\n",
      "RMSE: 0.7357299327850342\n",
      "MAPE: 0.8434497117996216\n",
      "[step: 2] loss: 32183.685546875\n",
      "RMSE: 0.6727750301361084\n",
      "MAPE: 0.7663530111312866\n",
      "[step: 3] loss: 26706.5703125\n",
      "RMSE: 0.6090545654296875\n",
      "MAPE: 0.6826449036598206\n",
      "[step: 4] loss: 21717.828125\n",
      "RMSE: 0.5447227358818054\n",
      "MAPE: 0.5908945202827454\n",
      "[step: 5] loss: 17255.01171875\n",
      "RMSE: 0.48044487833976746\n",
      "MAPE: 0.49400874972343445\n",
      "[step: 6] loss: 13355.267578125\n",
      "RMSE: 0.41584011912345886\n",
      "MAPE: 0.3959532380104065\n",
      "[step: 7] loss: 9979.689453125\n",
      "RMSE: 0.35351845622062683\n",
      "MAPE: 0.3046584129333496\n",
      "[step: 8] loss: 7246.5390625\n",
      "RMSE: 0.2968658208847046\n",
      "MAPE: 0.23498374223709106\n",
      "[step: 9] loss: 5215.2392578125\n",
      "RMSE: 0.2486269474029541\n",
      "MAPE: 0.19297575950622559\n",
      "[step: 10] loss: 3831.15283203125\n",
      "RMSE: 0.2100135087966919\n",
      "MAPE: 0.16621820628643036\n",
      "[step: 11] loss: 2956.0517578125\n",
      "RMSE: 0.1804056167602539\n",
      "MAPE: 0.15679998695850372\n",
      "[step: 12] loss: 2424.73193359375\n",
      "RMSE: 0.15759924054145813\n",
      "MAPE: 0.15128132700920105\n",
      "[step: 13] loss: 2086.94189453125\n",
      "RMSE: 0.13882820308208466\n",
      "MAPE: 0.14032326638698578\n",
      "[step: 14] loss: 1834.4813232421875\n",
      "RMSE: 0.12201320379972458\n",
      "MAPE: 0.12375565618276596\n",
      "[step: 15] loss: 1609.9627685546875\n",
      "RMSE: 0.10638874024152756\n",
      "MAPE: 0.10409609228372574\n",
      "[step: 16] loss: 1396.9766845703125\n",
      "RMSE: 0.09255032241344452\n",
      "MAPE: 0.08935246616601944\n",
      "[step: 17] loss: 1203.196044921875\n",
      "RMSE: 0.08222801238298416\n",
      "MAPE: 0.08160217106342316\n",
      "[step: 18] loss: 1045.2181396484375\n",
      "RMSE: 0.07755792886018753\n",
      "MAPE: 0.0773177221417427\n",
      "[step: 19] loss: 937.7988891601562\n",
      "RMSE: 0.07951007038354874\n",
      "MAPE: 0.07502228766679764\n",
      "[step: 20] loss: 887.6950073242188\n",
      "RMSE: 0.08679614216089249\n",
      "MAPE: 0.08121240139007568\n",
      "[step: 21] loss: 891.564453125\n",
      "RMSE: 0.09684789180755615\n",
      "MAPE: 0.09212734550237656\n",
      "[step: 22] loss: 937.0674438476562\n",
      "RMSE: 0.10731454938650131\n",
      "MAPE: 0.10310567170381546\n",
      "[step: 23] loss: 1006.07080078125\n",
      "RMSE: 0.11658436059951782\n",
      "MAPE: 0.11457814276218414\n",
      "[step: 24] loss: 1078.7449951171875\n",
      "RMSE: 0.12370402365922928\n",
      "MAPE: 0.12416582554578781\n",
      "[step: 25] loss: 1137.4010009765625\n",
      "RMSE: 0.12819667160511017\n",
      "MAPE: 0.13083311915397644\n",
      "[step: 26] loss: 1169.2139892578125\n",
      "RMSE: 0.12991702556610107\n",
      "MAPE: 0.1342511624097824\n",
      "[step: 27] loss: 1167.4775390625\n",
      "RMSE: 0.12894921004772186\n",
      "MAPE: 0.1342320591211319\n",
      "[step: 28] loss: 1131.50537109375\n",
      "RMSE: 0.12553563714027405\n",
      "MAPE: 0.1310504823923111\n",
      "[step: 29] loss: 1065.586669921875\n",
      "RMSE: 0.12002841383218765\n",
      "MAPE: 0.12516354024410248\n",
      "[step: 30] loss: 977.458251953125\n",
      "RMSE: 0.11285725980997086\n",
      "MAPE: 0.11705546826124191\n",
      "[step: 31] loss: 876.6513671875\n",
      "RMSE: 0.10450853407382965\n",
      "MAPE: 0.1072222962975502\n",
      "[step: 32] loss: 772.95654296875\n",
      "RMSE: 0.0955103263258934\n",
      "MAPE: 0.09629622846841812\n",
      "[step: 33] loss: 675.1357421875\n",
      "RMSE: 0.0864177942276001\n",
      "MAPE: 0.08503733575344086\n",
      "[step: 34] loss: 589.9613647460938\n",
      "RMSE: 0.0777917429804802\n",
      "MAPE: 0.07404650002717972\n",
      "[step: 35] loss: 521.6375732421875\n",
      "RMSE: 0.07016099244356155\n",
      "MAPE: 0.06429121643304825\n",
      "[step: 36] loss: 471.6300048828125\n",
      "RMSE: 0.06395981460809708\n",
      "MAPE: 0.05709686130285263\n",
      "[step: 37] loss: 438.9041748046875\n",
      "RMSE: 0.05944593623280525\n",
      "MAPE: 0.05177881568670273\n",
      "[step: 38] loss: 420.51446533203125\n",
      "RMSE: 0.05663568899035454\n",
      "MAPE: 0.04832369461655617\n",
      "[step: 39] loss: 412.42657470703125\n",
      "RMSE: 0.05531317740678787\n",
      "MAPE: 0.04704270884394646\n",
      "[step: 40] loss: 410.402587890625\n",
      "RMSE: 0.055129580199718475\n",
      "MAPE: 0.04716742783784866\n",
      "[step: 41] loss: 410.77191162109375\n",
      "RMSE: 0.05573458969593048\n",
      "MAPE: 0.048050906509160995\n",
      "[step: 42] loss: 410.9408874511719\n",
      "RMSE: 0.05686424672603607\n",
      "MAPE: 0.04931769147515297\n",
      "[step: 43] loss: 409.5771789550781\n",
      "RMSE: 0.05835990235209465\n",
      "MAPE: 0.050782736390829086\n",
      "[step: 44] loss: 406.4871826171875\n",
      "RMSE: 0.060138531029224396\n",
      "MAPE: 0.05247581750154495\n",
      "[step: 45] loss: 402.27532958984375\n",
      "RMSE: 0.062146443873643875\n",
      "MAPE: 0.05441264063119888\n",
      "[step: 46] loss: 397.9098815917969\n",
      "RMSE: 0.06431993097066879\n",
      "MAPE: 0.05659277364611626\n",
      "[step: 47] loss: 394.313232421875\n",
      "RMSE: 0.06656461954116821\n",
      "MAPE: 0.05905979871749878\n",
      "[step: 48] loss: 392.0645751953125\n",
      "RMSE: 0.06875454634428024\n",
      "MAPE: 0.06167001649737358\n",
      "[step: 49] loss: 391.26104736328125\n",
      "RMSE: 0.07074543833732605\n",
      "MAPE: 0.06415237486362457\n",
      "[step: 50] loss: 391.53277587890625\n",
      "RMSE: 0.0723937377333641\n",
      "MAPE: 0.06636132299900055\n",
      "[step: 51] loss: 392.17999267578125\n",
      "RMSE: 0.07357513159513474\n",
      "MAPE: 0.06809055805206299\n",
      "[step: 52] loss: 392.37506103515625\n",
      "RMSE: 0.07419879734516144\n",
      "MAPE: 0.06918498873710632\n",
      "[step: 53] loss: 391.37261962890625\n",
      "RMSE: 0.07421578466892242\n",
      "MAPE: 0.0695226788520813\n",
      "[step: 54] loss: 388.67822265625\n",
      "RMSE: 0.07362236827611923\n",
      "MAPE: 0.06909187138080597\n",
      "[step: 55] loss: 384.1446533203125\n",
      "RMSE: 0.07245883345603943\n",
      "MAPE: 0.06797393411397934\n",
      "[step: 56] loss: 377.9849853515625\n",
      "RMSE: 0.0708046555519104\n",
      "MAPE: 0.06624570488929749\n",
      "[step: 57] loss: 370.7103271484375\n",
      "RMSE: 0.06877108663320541\n",
      "MAPE: 0.06403380632400513\n",
      "[step: 58] loss: 363.01385498046875\n",
      "RMSE: 0.06649133563041687\n",
      "MAPE: 0.061511602252721786\n",
      "[step: 59] loss: 355.62957763671875\n",
      "RMSE: 0.06410925090312958\n",
      "MAPE: 0.05886044353246689\n",
      "[step: 60] loss: 349.197265625\n",
      "RMSE: 0.06176690012216568\n",
      "MAPE: 0.056265950202941895\n",
      "[step: 61] loss: 344.1599426269531\n",
      "RMSE: 0.05959223210811615\n",
      "MAPE: 0.053854163736104965\n",
      "[step: 62] loss: 340.7096252441406\n",
      "RMSE: 0.05768851190805435\n",
      "MAPE: 0.05172640085220337\n",
      "[step: 63] loss: 338.78802490234375\n",
      "RMSE: 0.05612722411751747\n",
      "MAPE: 0.049975596368312836\n",
      "[step: 64] loss: 338.13592529296875\n",
      "RMSE: 0.05494558811187744\n",
      "MAPE: 0.04862764850258827\n",
      "[step: 65] loss: 338.3726501464844\n",
      "RMSE: 0.05414927750825882\n",
      "MAPE: 0.04769197478890419\n",
      "[step: 66] loss: 339.08685302734375\n",
      "RMSE: 0.053718533366918564\n",
      "MAPE: 0.04715834558010101\n",
      "[step: 67] loss: 339.91473388671875\n",
      "RMSE: 0.0536157488822937\n",
      "MAPE: 0.04698295518755913\n",
      "[step: 68] loss: 340.5918884277344\n",
      "RMSE: 0.053792137652635574\n",
      "MAPE: 0.04711797460913658\n",
      "[step: 69] loss: 340.9724426269531\n",
      "RMSE: 0.054192475974559784\n",
      "MAPE: 0.0475030317902565\n",
      "[step: 70] loss: 341.0174255371094\n",
      "RMSE: 0.05475804582238197\n",
      "MAPE: 0.048080768436193466\n",
      "[step: 71] loss: 340.763671875\n",
      "RMSE: 0.05542862042784691\n",
      "MAPE: 0.04879327863454819\n",
      "[step: 72] loss: 340.28515625\n",
      "RMSE: 0.05614456906914711\n",
      "MAPE: 0.0495835542678833\n",
      "[step: 73] loss: 339.6590576171875\n",
      "RMSE: 0.056849442422389984\n",
      "MAPE: 0.05038506165146828\n",
      "[step: 74] loss: 338.9447326660156\n",
      "RMSE: 0.05749300494790077\n",
      "MAPE: 0.05113869160413742\n",
      "[step: 75] loss: 338.17584228515625\n",
      "RMSE: 0.058034371584653854\n",
      "MAPE: 0.05179671198129654\n",
      "Training process is stopped early....\n"
     ]
    },
    {
     "data": {
      "image/png": "[encoded data removed]",
      "text/plain": [
       "<Figure size 432x288 with 1 Axes>"
      ]
     },
     "metadata": {
      "needs_background": "light"
     },
     "output_type": "display_data"
    }
   ],
   "source": [
    "with tf.Session() as sess:\n",
    "    sess.run(tf.global_variables_initializer())\n",
    "    # Training step\n",
    "    for i in range(iterations):\n",
    "        _, step_loss = sess.run([train, loss], feed_dict={X: trainX, Y: trainY})\n",
    "        print(\"[step: {}] loss: {}\".format(i, step_loss))\n",
    "\n",
    "            \n",
    "        # Test step\n",
    "        test_predict = sess.run(Y_pred, feed_dict={X: testX})\n",
    "        rmse_val = sess.run(rmse, feed_dict={targets: testY, predictions: test_predict})\n",
    "        mape_val = sess.run(mape, feed_dict={targets: testY, predictions: test_predict})\n",
    "\n",
    "        print(\"RMSE: {}\".format(rmse_val))\n",
    "        print(\"MAPE: {}\".format(mape_val))\n",
    "        \n",
    "                \n",
    "        if early_stopping.validate(step_loss): #조기 종료\n",
    "            break\n",
    "\n",
    "\n",
    "        # Plot predictions\n",
    "    plt.plot(testY)\n",
    "    plt.xlabel(\"Time Period\")\n",
    "    plt.ylabel(\"Stock Price\")\n",
    "    plt.show()\n"
   ]
  },
  {
   "cell_type": "code",
   "execution_count": 39,
   "metadata": {},
   "outputs": [
    {
     "data": {
      "image/png": "[encoded data removed]",
      "text/plain": [
       "<Figure size 432x288 with 1 Axes>"
      ]
     },
     "metadata": {
      "needs_background": "light"
     },
     "output_type": "display_data"
    }
   ],
   "source": [
    "plt.plot(testY[:,0])\n",
    "plt.plot(test_predict[:,0])\n",
    "plt.xlabel(\"Time Period\")\n",
    "plt.ylabel(\"Stock Price\")\n",
    "plt.show()"
   ]
  }
 ],
 "metadata": {
  "kernelspec": {
   "display_name": "Python 3",
   "language": "python",
   "name": "python3"
  },
  "language_info": {
   "codemirror_mode": {
    "name": "ipython",
    "version": 3
   },
   "file_extension": ".py",
   "mimetype": "text/x-python",
   "name": "python",
   "nbconvert_exporter": "python",
   "pygments_lexer": "ipython3",
   "version": "3.7.6"
  }
 },
 "nbformat": 4,
 "nbformat_minor": 4
}
