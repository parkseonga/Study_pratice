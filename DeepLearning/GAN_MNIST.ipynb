{
 "cells": [
  {
   "cell_type": "markdown",
   "metadata": {},
   "source": [
    "## GAN 모델 학습\n",
    "---\n",
    "이론 참고: https://ssung-22.tistory.com/manage/newpost/57?type=post&returnURL=https%3A%2F%2Fssung-22.tistory.com%2F57"
   ]
  },
  {
   "cell_type": "markdown",
   "metadata": {},
   "source": [
    "#### 패키지 Import"
   ]
  },
  {
   "cell_type": "code",
   "execution_count": 45,
   "metadata": {},
   "outputs": [
    {
     "name": "stdout",
     "output_type": "stream",
     "text": [
      "Extracting ./mnist/data/train-images-idx3-ubyte.gz\n",
      "Extracting ./mnist/data/train-labels-idx1-ubyte.gz\n",
      "Extracting ./mnist/data/t10k-images-idx3-ubyte.gz\n",
      "Extracting ./mnist/data/t10k-labels-idx1-ubyte.gz\n",
      "D:\\포트폴리오\\4학년\\딥러닝\n"
     ]
    }
   ],
   "source": [
    "import tensorflow as tf\n",
    "# tensorflow2 버전에서 1버전 코드 사용하기 \n",
    "import tensorflow.compat.v1 as tf\n",
    "tf.disable_v2_behavior()\n",
    "\n",
    "tf.reset_default_graph()\n",
    "\n",
    "import matplotlib.pyplot as plt\n",
    "import numpy as np\n",
    "\n",
    "from tensorflow.examples.tutorials.mnist import input_data\n",
    "\n",
    "# 데이터 불러오기 \n",
    "mnist = input_data.read_data_sets(\"./mnist/data/\", one_hot=True)\n",
    "\n",
    "import os\n",
    "currentPath = os.getcwd()\n",
    "print(currentPath)"
   ]
  },
  {
   "cell_type": "code",
   "execution_count": 46,
   "metadata": {},
   "outputs": [],
   "source": [
    "# parameter\n",
    "total_epoch = 100\n",
    "batch_size = 100\n",
    "n_hidden = 256\n",
    "n_input = 28 * 28\n",
    "n_noise = 128\n",
    "n_class = 10  # 1~9 까지 총 10개 숫자 \n"
   ]
  },
  {
   "cell_type": "code",
   "execution_count": 47,
   "metadata": {},
   "outputs": [],
   "source": [
    "X = tf.placeholder(tf.float32, [None, n_input])\n",
    "\n",
    "# 생성자가 label을 갖고 있다면 더 좋은 성능을 가질 수 있지 않을까?\n",
    "Y = tf.placeholder(tf.float32, [None, n_class])  \n",
    "Z = tf.placeholder(tf.float32, [None, n_noise])"
   ]
  },
  {
   "cell_type": "code",
   "execution_count": 48,
   "metadata": {},
   "outputs": [
    {
     "name": "stdout",
     "output_type": "stream",
     "text": [
      "X 차원: (?, 784)\n",
      "Y 차원: (?, 10)\n",
      "Z 차원: (?, 128)\n"
     ]
    }
   ],
   "source": [
    "print(\"X 차원: {}\".format(X.shape))\n",
    "print(\"Y 차원: {}\".format(Y.shape))\n",
    "print(\"Z 차원: {}\".format(Z.shape))"
   ]
  },
  {
   "cell_type": "markdown",
   "metadata": {},
   "source": [
    "#### 생성자, 판별자, 노이즈 함수 생성 "
   ]
  },
  {
   "cell_type": "code",
   "execution_count": 49,
   "metadata": {},
   "outputs": [],
   "source": [
    "# 가짜 이미지 생성기 \n",
    "def generator(noise, labels):\n",
    "    with tf.variable_scope('generator'):\n",
    "        inputs = tf.concat([noise, labels], 1)  # 입력 데이터에 label을 추가해서 높은 성능을 기대하자. \n",
    "        hidden = tf.layers.dense(inputs, n_hidden, activation=tf.nn.relu)\n",
    "        output = tf.layers.dense(hidden, n_input, activation=tf.nn.sigmoid)\n",
    "    return output\n",
    "\n",
    "#분류 생성기 \n",
    "def discriminator(inputs, labels, reuse=None):\n",
    "    with tf.variable_scope('discriminator') as scope:\n",
    "        if reuse:\n",
    "            scope.reuse_variables()   # 변수를 재사용하며 학습 \n",
    "        inputs = tf.concat([inputs, labels], 1)\n",
    "        hidden = tf.layers.dense(inputs, n_hidden, activation=tf.nn.relu)\n",
    "        output = tf.layers.dense(hidden, 1, activation=None)\n",
    "    return output\n",
    "\n",
    "# 노이즈 생성\n",
    "def get_noise(batch_size, n_noise):  # batch size 만큼 균등 분폴르 따르는 노이즈 생성 \n",
    "    return np.random.uniform(-1., 1., size=[batch_size, n_noise])"
   ]
  },
  {
   "cell_type": "markdown",
   "metadata": {},
   "source": [
    "#### 함수 적용"
   ]
  },
  {
   "cell_type": "code",
   "execution_count": 50,
   "metadata": {},
   "outputs": [],
   "source": [
    "G = generator(Z, Y)  # 그럴듯한 가짜 이미지 생성 \n",
    "D_real = discriminator(X, Y)   # 진짜 이미지 판별\n",
    "D_gene = discriminator(G, Y, True)  # 가짜 이미지 판별 "
   ]
  },
  {
   "cell_type": "code",
   "execution_count": 51,
   "metadata": {},
   "outputs": [],
   "source": [
    "# tf.ones_like = D_real과 같은 차원의 행렬 데이터를 만들어냄. \n",
    "# tf.zeros_like = D_real과 같은 차원의 행렬 데이털르 만드는데 데이터 내 값은 모두 0\n",
    "loss_D_real = tf.reduce_mean(tf.nn.sigmoid_cross_entropy_with_logits(logits=D_real, labels=tf.ones_like(D_real)))\n",
    "loss_D_gene = tf.reduce_mean(tf.nn.sigmoid_cross_entropy_with_logits(logits=D_gene, labels=tf.zeros_like(D_gene)))\n",
    "\n",
    "loss_D = loss_D_real + loss_D_gene\n",
    "loss_G = tf.reduce_mean(tf.nn.sigmoid_cross_entropy_with_logits(logits=D_gene, labels=tf.ones_like(D_gene)))"
   ]
  },
  {
   "cell_type": "code",
   "execution_count": 52,
   "metadata": {},
   "outputs": [],
   "source": [
    "vars_D = tf.get_collection(tf.GraphKeys.TRAINABLE_VARIABLES, scope='discriminator')\n",
    "vars_G = tf.get_collection(tf.GraphKeys.TRAINABLE_VARIABLES, scope='generator')\n",
    "\n",
    "# loss를 구하는 부분은 NN이 독립적으로 다른 NN이므로 구분 \n",
    "train_D = tf.train.AdamOptimizer().minimize(loss_D, var_list=vars_D)\n",
    "train_G = tf.train.AdamOptimizer().minimize(loss_G, var_list=vars_G)"
   ]
  },
  {
   "cell_type": "code",
   "execution_count": 56,
   "metadata": {},
   "outputs": [
    {
     "name": "stdout",
     "output_type": "stream",
     "text": [
      "Epoch: 0000 D loss:  0.002247 G loss: 7.996\n",
      "Optimization Completed!\n",
      "Epoch: 0001 D loss:  0.002537 G loss: 8.09\n",
      "Epoch: 0002 D loss:  0.01187 G loss: 9.199\n",
      "Epoch: 0003 D loss:  0.001854 G loss: 8.647\n",
      "Epoch: 0004 D loss:  0.0004791 G loss: 10.9\n",
      "Epoch: 0005 D loss:  0.0002185 G loss: 9.222\n",
      "Epoch: 0006 D loss:  0.003709 G loss: 10.89\n",
      "Epoch: 0007 D loss:  0.0001053 G loss: 11.31\n",
      "Epoch: 0008 D loss:  0.0005215 G loss: 10.7\n",
      "Epoch: 0009 D loss:  8.387e-05 G loss: 11.75\n",
      "Optimization Completed!\n",
      "Epoch: 0010 D loss:  8.225e-05 G loss: 12.3\n",
      "Epoch: 0011 D loss:  8.451e-06 G loss: 13.21\n",
      "Epoch: 0012 D loss:  2.651e-05 G loss: 13.05\n",
      "Epoch: 0013 D loss:  5.008e-08 G loss: 19.89\n",
      "Epoch: 0014 D loss:  2.125e-06 G loss: 14.41\n",
      "Epoch: 0015 D loss:  8.173e-06 G loss: 14.26\n",
      "Epoch: 0016 D loss:  7.355e-06 G loss: 12.68\n",
      "Epoch: 0017 D loss:  0.0002659 G loss: 15.85\n",
      "Epoch: 0018 D loss:  3.146e-06 G loss: 28.28\n",
      "Epoch: 0019 D loss:  1.105e-06 G loss: 15.54\n",
      "Optimization Completed!\n",
      "Epoch: 0020 D loss:  1.913e-05 G loss: 17.37\n",
      "Epoch: 0021 D loss:  7.715e-09 G loss: 18.9\n",
      "Epoch: 0022 D loss:  6.938e-09 G loss: 20.17\n",
      "Epoch: 0023 D loss:  5.48e-09 G loss: 19.48\n",
      "Epoch: 0024 D loss:  3.862e-09 G loss: 19.82\n",
      "Epoch: 0025 D loss:  8.134e-06 G loss: 13.24\n",
      "Epoch: 0026 D loss:  3.018e-07 G loss: 18.42\n",
      "Epoch: 0027 D loss:  2e-06 G loss: 14.6\n",
      "Epoch: 0028 D loss:  2.635e-07 G loss: 16.24\n",
      "Epoch: 0029 D loss:  9.251e-07 G loss: 17.2\n",
      "Optimization Completed!\n",
      "Epoch: 0030 D loss:  0.0001116 G loss: 13.49\n",
      "Epoch: 0031 D loss:  1.239e-06 G loss: 15.54\n",
      "Epoch: 0032 D loss:  1.392e-06 G loss: 15.18\n",
      "Epoch: 0033 D loss:  1.066e-07 G loss: 17.44\n",
      "Epoch: 0034 D loss:  1.239e-06 G loss: 15.69\n",
      "Epoch: 0035 D loss:  2.437e-06 G loss: 14.73\n",
      "Epoch: 0036 D loss:  3.925e-06 G loss: 15.1\n",
      "Epoch: 0037 D loss:  0.03317 G loss: 27.43\n",
      "Epoch: 0038 D loss:  9.424e-07 G loss: 16.06\n",
      "Epoch: 0039 D loss:  1.378e-06 G loss: 15.01\n",
      "Optimization Completed!\n",
      "Epoch: 0040 D loss:  1.334e-07 G loss: 18.44\n",
      "Epoch: 0041 D loss:  3.089e-07 G loss: 18.39\n",
      "Epoch: 0042 D loss:  3.497e-09 G loss: 21.13\n",
      "Epoch: 0043 D loss:  3.563e-07 G loss: 16.27\n",
      "Epoch: 0044 D loss:  7.721e-08 G loss: 17.73\n",
      "Epoch: 0045 D loss:  1.808e-08 G loss: 19.21\n",
      "Epoch: 0046 D loss:  4.04e-09 G loss: 20.86\n",
      "Epoch: 0047 D loss:  7.341e-06 G loss: 18.38\n",
      "Epoch: 0048 D loss:  9.922e-09 G loss: 24.13\n",
      "Epoch: 0049 D loss:  3.771e-09 G loss: 27.9\n",
      "Optimization Completed!\n",
      "Epoch: 0050 D loss:  4.907e-08 G loss: 18.01\n",
      "Epoch: 0051 D loss:  2.481e-07 G loss: 19.24\n",
      "Epoch: 0052 D loss:  8.657e-08 G loss: 19.38\n",
      "Epoch: 0053 D loss:  1.574e-07 G loss: 17.69\n",
      "Epoch: 0054 D loss:  1.537e-06 G loss: 15.56\n",
      "Epoch: 0055 D loss:  3.702e-07 G loss: 16.91\n",
      "Epoch: 0056 D loss:  3.941e-07 G loss: 18.15\n",
      "Epoch: 0057 D loss:  4.144e-08 G loss: 18.91\n",
      "Epoch: 0058 D loss:  3.863e-08 G loss: 18.72\n",
      "Epoch: 0059 D loss:  1.66e-08 G loss: 19.56\n",
      "Optimization Completed!\n",
      "Epoch: 0060 D loss:  9.171e-07 G loss: 21.05\n",
      "Epoch: 0061 D loss:  3.929e-21 G loss: 55.2\n",
      "Epoch: 0062 D loss:  5.811e-08 G loss: 20.11\n",
      "Epoch: 0063 D loss:  1.065e-14 G loss: 58.63\n",
      "Epoch: 0064 D loss:  4.028e-07 G loss: 19.66\n",
      "Epoch: 0065 D loss:  2.334e-06 G loss: 14.06\n",
      "Epoch: 0066 D loss:  3.699e-07 G loss: 16.29\n",
      "Epoch: 0067 D loss:  6.235e-07 G loss: 17.4\n",
      "Epoch: 0068 D loss:  6.969e-08 G loss: 19.59\n",
      "Epoch: 0069 D loss:  7.128e-09 G loss: 20.42\n",
      "Optimization Completed!\n",
      "Epoch: 0070 D loss:  6.516e-09 G loss: 20.37\n",
      "Epoch: 0071 D loss:  1.904e-09 G loss: 21.44\n",
      "Epoch: 0072 D loss:  4.284e-09 G loss: 20.53\n",
      "Epoch: 0073 D loss:  1.823e-08 G loss: 19.59\n",
      "Epoch: 0074 D loss:  9.384e-09 G loss: 20.2\n",
      "Epoch: 0075 D loss:  3.314e-08 G loss: 19.31\n",
      "Epoch: 0076 D loss:  9.343e-10 G loss: 21.82\n",
      "Epoch: 0077 D loss:  9.628e-17 G loss: 52.48\n",
      "Epoch: 0078 D loss:  1.125e-09 G loss: 22.44\n",
      "Epoch: 0079 D loss:  3.546e-10 G loss: 23.15\n",
      "Optimization Completed!\n",
      "Epoch: 0080 D loss:  1.171e-10 G loss: 23.96\n",
      "Epoch: 0081 D loss:  1.583e-10 G loss: 24.0\n",
      "Epoch: 0082 D loss:  2.873e-10 G loss: 23.95\n",
      "Epoch: 0083 D loss:  6.382e-10 G loss: 23.22\n",
      "Epoch: 0084 D loss:  1.224e-09 G loss: 22.3\n",
      "Epoch: 0085 D loss:  1.393e-10 G loss: 24.04\n",
      "Epoch: 0086 D loss:  3.075e-09 G loss: 21.49\n",
      "Epoch: 0087 D loss:  0.003352 G loss: 16.43\n",
      "Epoch: 0088 D loss:  1.546e-07 G loss: 20.22\n",
      "Epoch: 0089 D loss:  2.061e-08 G loss: 22.31\n",
      "Optimization Completed!\n",
      "Epoch: 0090 D loss:  1.978e-16 G loss: 42.27\n",
      "Epoch: 0091 D loss:  1.261e-09 G loss: 24.39\n",
      "Epoch: 0092 D loss:  5.921e-07 G loss: 19.21\n",
      "Epoch: 0093 D loss:  1.533e-07 G loss: 19.49\n",
      "Epoch: 0094 D loss:  3.722e-07 G loss: 18.59\n",
      "Epoch: 0095 D loss:  8.466e-15 G loss: 57.74\n",
      "Epoch: 0096 D loss:  3.932e-08 G loss: 19.95\n",
      "Epoch: 0097 D loss:  3.781e-08 G loss: 19.55\n",
      "Epoch: 0098 D loss:  1.09e-08 G loss: 20.75\n",
      "Epoch: 0099 D loss:  2.406e-13 G loss: 31.05\n",
      "Optimization Completed!\n"
     ]
    },
    {
     "data": {
      "text/plain": [
       "<Figure size 432x288 with 0 Axes>"
      ]
     },
     "metadata": {},
     "output_type": "display_data"
    }
   ],
   "source": [
    "sess = tf.Session()\n",
    "sess.run(tf.global_variables_initializer())\n",
    "total_batch = int(mnist.train.num_examples/batch_size)\n",
    "loss_val_D, loss_val_G = 0, 0\n",
    "\n",
    "for epoch in range(total_epoch):\n",
    "    for i in range(total_batch):\n",
    "        batch_xs, batch_ys = mnist.train.next_batch(batch_size)\n",
    "        noise = get_noise(batch_size, n_noise)\n",
    "\n",
    "        _, loss_val_D = sess.run([train_D, loss_D], feed_dict={X: batch_xs, Y: batch_ys, Z: noise})\n",
    "        _, loss_val_G = sess.run([train_G, loss_G], feed_dict={Y: batch_ys, Z: noise})\n",
    "\n",
    "    print('Epoch:', '%04d' % epoch, 'D loss:  {:.4}'.format(loss_val_D), 'G loss: {:.4}'.format(loss_val_G))\n",
    "\n",
    "    if epoch == 0 or (epoch + 1) % 10 == 0:\n",
    "        sample_size = 10\n",
    "        noise = get_noise(sample_size, n_noise)\n",
    "        samples = sess.run(G, feed_dict={Y: mnist.test.labels[:sample_size], Z: noise})\n",
    "        \n",
    "        fig, ax = plt.subplots(2, sample_size, figsize=(sample_size, 2))\n",
    "        \n",
    "        for i in range(sample_size):\n",
    "            ax[0][i].set_axis_off()\n",
    "            ax[1][i].set_axis_off()\n",
    "            ax[0][i].imshow(np.reshape(mnist.test.images[i], (28, 28)))\n",
    "            ax[1][i].imshow(np.reshape(samples[i], (28, 28)))\n",
    "        plt.savefig('samples2/{}.png'.format(str(epoch).zfill(3)), bbox_inches='tight')\n",
    "        plt.close(fig)\n",
    "        print('Optimization Completed!')"
   ]
  },
  {
   "cell_type": "code",
   "execution_count": null,
   "metadata": {},
   "outputs": [],
   "source": []
  },
  {
   "cell_type": "code",
   "execution_count": null,
   "metadata": {},
   "outputs": [],
   "source": []
  }
 ],
 "metadata": {
  "kernelspec": {
   "display_name": "Python 3",
   "language": "python",
   "name": "python3"
  },
  "language_info": {
   "codemirror_mode": {
    "name": "ipython",
    "version": 3
   },
   "file_extension": ".py",
   "mimetype": "text/x-python",
   "name": "python",
   "nbconvert_exporter": "python",
   "pygments_lexer": "ipython3",
   "version": "3.7.6"
  }
 },
 "nbformat": 4,
 "nbformat_minor": 4
}
